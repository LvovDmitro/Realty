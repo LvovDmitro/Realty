{
 "cells": [
  {
   "cell_type": "code",
   "execution_count": 1,
   "metadata": {
    "collapsed": true,
    "pycharm": {
     "name": "#%%\n"
    }
   },
   "outputs": [
    {
     "name": "stderr",
     "output_type": "stream",
     "text": [
      "\n",
      "[notice] A new release of pip available: 22.3 -> 23.1.2\n",
      "[notice] To update, run: python.exe -m pip install --upgrade pip\n"
     ]
    }
   ],
   "source": [
    "! pip install --quiet \"tabulate\" \"ipython[notebook]>=8.0.0, <8.12.0\" \"pytorch-lightning>=1.4, <2.0.0\" \"torchvision\" \"setuptools==67.4.0\" \"seaborn\" \"torch>=1.8.1, <1.14.0\" \"matplotlib\" \"torchmetrics>=0.7, <0.12\" \"lightning>=2.0.0rc0\""
   ]
  },
  {
   "cell_type": "code",
   "execution_count": 2,
   "outputs": [],
   "source": [
    "import lightning as L\n",
    "import pandas as pd\n",
    "import seaborn as sn\n",
    "import torch\n",
    "from IPython.display import display\n",
    "from lightning.pytorch.loggers import CSVLogger\n",
    "from torch import nn\n",
    "from torch.nn import functional as F\n",
    "from torch.utils.data import DataLoader\n",
    "from torchmetrics.classification import MulticlassAccuracy, MulticlassAUROC, MulticlassF1Score\n",
    "from torchvision import transforms\n",
    "from prep import CustomImageDataset\n",
    "from prep_img import RandomTranslateCrop, CenterCrop\n",
    "\n",
    "path_img = 'C:\\\\mimic-cxr-jpg\\\\train'\n",
    "BATCH_SIZE = 64"
   ],
   "metadata": {
    "collapsed": false,
    "pycharm": {
     "name": "#%%\n"
    }
   }
  },
  {
   "cell_type": "code",
   "execution_count": 3,
   "outputs": [],
   "source": [
    "train_label = \"C:\\\\mimic-cxr-jpg\\\\train_set.csv\"\n",
    "val_label = \"C:\\\\mimic-cxr-jpg\\\\val_set.csv\"\n",
    "test_label = \"C:\\\\mimic-cxr-jpg\\\\test_set.csv\"\n",
    "\n",
    "train_set = CustomImageDataset(train_label,path_img,transform=CenterCrop(128))\n",
    "val_set = CustomImageDataset(val_label,path_img,transform=CenterCrop(128))\n",
    "test_set = CustomImageDataset(test_label,path_img,transform=CenterCrop(128))"
   ],
   "metadata": {
    "collapsed": false,
    "pycharm": {
     "name": "#%%\n"
    }
   }
  },
  {
   "cell_type": "code",
   "execution_count": 4,
   "outputs": [],
   "source": [
    "class ConvNet(L.LightningModule):\n",
    "     def __init__(self, input_shape, num_classes=15, learning_rate=3e-4):\n",
    "\n",
    "         super().__init__()\n",
    "         self.save_hyperparameters()\n",
    "         self.learning_rate = learning_rate\n",
    "         self.num_classes = num_classes\n",
    "\n",
    "         self.transform = transforms.Compose(\n",
    "            [\n",
    "                transforms.ToTensor(),\n",
    "                transforms.Normalize((0.1307,), (0.3081,)),\n",
    "            ]\n",
    "        )\n",
    "         self.conv1 = nn.Conv2d(1, 128, 3, 1)\n",
    "         self.conv2 = nn.Conv2d(128, 128, 3, 1)\n",
    "         self.conv3 = nn.Conv2d(128,256 , 3, 1)\n",
    "         self.conv4 = nn.Conv2d(256, 256, 3, 1)\n",
    "\n",
    "         self.pool1 = torch.nn.MaxPool2d(2)\n",
    "         self.pool2 = torch.nn.MaxPool2d(2)\n",
    "\n",
    "         n_sizes = self._get_output_shape(input_shape)\n",
    "\n",
    "         self.fc1 = nn.Linear(n_sizes, 512)\n",
    "         self.fc2 = nn.Linear(512, 128)\n",
    "         self.fc3 = nn.Linear(128, num_classes)\n",
    "\n",
    "         self.train_accuracy = MulticlassAccuracy(num_classes=num_classes)\n",
    "         self.val_accuracy = MulticlassAccuracy(num_classes=num_classes)\n",
    "         self.test_accuracy = MulticlassAccuracy(num_classes=num_classes)\n",
    "\n",
    "         self.train_auroc = MulticlassAUROC(num_classes=num_classes)\n",
    "         self.val_auroc = MulticlassAUROC(num_classes=num_classes)\n",
    "         self.test_auroc = MulticlassAUROC(num_classes=num_classes)\n",
    "\n",
    "         self.train_f1 = MulticlassF1Score(num_classes=num_classes)\n",
    "         self.val_f1 = MulticlassF1Score(num_classes=num_classes)\n",
    "         self.test_f1 = MulticlassF1Score(num_classes=num_classes)\n",
    "\n",
    "     def _get_output_shape(self, shape):\n",
    "        '''returns the size of the output tensor from the conv layers'''\n",
    "\n",
    "        batch_size = 1\n",
    "        input = torch.autograd.Variable(torch.rand(batch_size, *shape))\n",
    "\n",
    "        output_feat = self._feature_extractor(input)\n",
    "        n_size = output_feat.data.view(batch_size, -1).size(1)\n",
    "        return n_size\n",
    "\n",
    "     def _feature_extractor(self, x):\n",
    "        '''extract features from the conv blocks'''\n",
    "        x = F.relu(self.conv1(x))\n",
    "        x = self.pool1(F.relu(self.conv2(x)))\n",
    "        x = F.relu(self.conv3(x))\n",
    "        x = self.pool2(F.relu(self.conv4(x)))\n",
    "        return x\n",
    "\n",
    "     def forward(self, x):\n",
    "       '''produce final model output'''\n",
    "       x = self._feature_extractor(x)\n",
    "       x = x.view(x.size(0), -1)\n",
    "       x = F.relu(self.fc1(x))\n",
    "       x = F.relu(self.fc2(x))\n",
    "       x = F.log_softmax(self.fc3(x), dim=1)\n",
    "       return x\n",
    "\n",
    "     def training_step(self, batch, batch_idx):\n",
    "        x, y = batch\n",
    "        logits = self(x)\n",
    "        loss = F.cross_entropy(logits, y)\n",
    "\n",
    "        preds = torch.argmax(logits, dim=1)\n",
    "        self.train_accuracy.update(preds,y)\n",
    "\n",
    "        preds = torch.softmax(logits,dim=1)\n",
    "        self.train_auroc.update(preds,y)\n",
    "\n",
    "        preds = torch.argmax(logits, dim=1)\n",
    "        self.train_f1.update(preds,y)\n",
    "\n",
    "        # Calling self.log will surface up scalars for you in TensorBoard\n",
    "        self.log(\"train_loss\", loss, prog_bar=True)\n",
    "        self.log(\"train_acc\", self.train_accuracy, prog_bar=True)\n",
    "        self.log(\"train_roc\", self.train_auroc, prog_bar=True)\n",
    "        self.log(\"train_f1\", self.train_f1, prog_bar=True)\n",
    "        return loss\n",
    "\n",
    "     def validation_step(self, batch, batch_idx):\n",
    "        x, y = batch\n",
    "        logits = self(x)\n",
    "        loss = F.cross_entropy(logits, y)\n",
    "\n",
    "        preds = torch.argmax(logits, dim=1)\n",
    "        self.val_accuracy.update(preds,y)\n",
    "\n",
    "        preds = torch.softmax(logits,dim=1)\n",
    "        self.val_auroc.update(preds,y)\n",
    "\n",
    "        preds = torch.argmax(logits, dim=1)\n",
    "        self.val_f1.update(preds,y)\n",
    "\n",
    "        # Calling self.log will surface up scalars for you in TensorBoard\n",
    "        self.log(\"val_loss\", loss, prog_bar=True)\n",
    "        self.log(\"val_acc\", self.val_accuracy, prog_bar=True)\n",
    "        self.log(\"val_roc\", self.val_auroc, prog_bar=True)\n",
    "        self.log(\"val_f1\", self.val_f1, prog_bar=True)\n",
    "\n",
    "     def test_step(self, batch, batch_idx):\n",
    "        x, y = batch\n",
    "        logits = self(x)\n",
    "        loss = F.cross_entropy(logits, y)\n",
    "\n",
    "        preds = torch.argmax(logits, dim=1)\n",
    "        self.test_accuracy.update(preds, y)\n",
    "\n",
    "        preds = torch.softmax(logits,dim=1)\n",
    "        self.test_auroc.update(preds, y)\n",
    "\n",
    "        preds = torch.argmax(logits, dim=1)\n",
    "        self.test_f1.update(preds, y)\n",
    "\n",
    "        # Calling self.log will surface up scalars for you in TensorBoard\n",
    "        self.log(\"test_loss\", loss, prog_bar=True)\n",
    "        self.log(\"test_acc\", self.test_accuracy, prog_bar=True)\n",
    "        self.log(\"test_roc\", self.test_auroc, prog_bar=True)\n",
    "        self.log(\"test_f1\", self.test_f1, prog_bar=True)\n",
    "\n",
    "     def configure_optimizers(self):\n",
    "        optimizer = torch.optim.Adam(self.parameters(), lr=self.learning_rate)\n",
    "        return optimizer\n",
    "\n",
    "     def setup(self, stage=None):\n",
    "        # Assign train/val datasets for use in dataloaders\n",
    "        if stage == \"fit\" or stage is None:\n",
    "            self.set_train, self.set_val = train_set,val_set\n",
    "\n",
    "        # Assign test dataset for use in dataloader(s)\n",
    "        if stage == \"test\" or stage is None:\n",
    "            self.set_test = test_set\n",
    "\n",
    "     def train_dataloader(self):\n",
    "        return DataLoader(self.set_train, batch_size=BATCH_SIZE,num_workers=0)\n",
    "\n",
    "     def val_dataloader(self):\n",
    "       return DataLoader(self.set_val, batch_size=BATCH_SIZE,num_workers=0)\n",
    "\n",
    "     def test_dataloader(self):\n",
    "        return DataLoader(self.set_test, batch_size=BATCH_SIZE,num_workers=0)"
   ],
   "metadata": {
    "collapsed": false,
    "pycharm": {
     "name": "#%%\n"
    }
   }
  },
  {
   "cell_type": "code",
   "execution_count": 5,
   "outputs": [
    {
     "name": "stderr",
     "output_type": "stream",
     "text": [
      "GPU available: False, used: False\n",
      "TPU available: False, using: 0 TPU cores\n",
      "IPU available: False, using: 0 IPUs\n",
      "HPU available: False, using: 0 HPUs\n"
     ]
    }
   ],
   "source": [
    "model = ConvNet((1, 128, 128),5)\n",
    "trainer = L.Trainer(\n",
    "    accelerator=\"cpu\",\n",
    "    devices=1,\n",
    "    max_epochs=8,\n",
    "    logger=CSVLogger(save_dir=\"logs/\"),\n",
    ")\n",
    "#trainer.fit(model)\n"
   ],
   "metadata": {
    "collapsed": false,
    "pycharm": {
     "name": "#%%\n"
    }
   }
  },
  {
   "cell_type": "code",
   "execution_count": 6,
   "outputs": [
    {
     "ename": "TypeError",
     "evalue": "`Trainer.test()` requires a `LightningModule` when it hasn't been passed in a previous run",
     "output_type": "error",
     "traceback": [
      "\u001B[1;31m---------------------------------------------------------------------------\u001B[0m",
      "\u001B[1;31mTypeError\u001B[0m                                 Traceback (most recent call last)",
      "Cell \u001B[1;32mIn [6], line 1\u001B[0m\n\u001B[1;32m----> 1\u001B[0m \u001B[43mtrainer\u001B[49m\u001B[38;5;241;43m.\u001B[39;49m\u001B[43mtest\u001B[49m\u001B[43m(\u001B[49m\u001B[43m)\u001B[49m\n",
      "File \u001B[1;32m~\\PycharmProjects\\Jupiternotebook\\coursework\\lib\\site-packages\\lightning\\pytorch\\trainer\\trainer.py:700\u001B[0m, in \u001B[0;36mTrainer.test\u001B[1;34m(self, model, dataloaders, ckpt_path, verbose, datamodule)\u001B[0m\n\u001B[0;32m    697\u001B[0m \u001B[38;5;28;01mif\u001B[39;00m model \u001B[38;5;129;01mis\u001B[39;00m \u001B[38;5;28;01mNone\u001B[39;00m:\n\u001B[0;32m    698\u001B[0m     \u001B[38;5;66;03m# do we still have a reference from a previous call?\u001B[39;00m\n\u001B[0;32m    699\u001B[0m     \u001B[38;5;28;01mif\u001B[39;00m \u001B[38;5;28mself\u001B[39m\u001B[38;5;241m.\u001B[39mlightning_module \u001B[38;5;129;01mis\u001B[39;00m \u001B[38;5;28;01mNone\u001B[39;00m:\n\u001B[1;32m--> 700\u001B[0m         \u001B[38;5;28;01mraise\u001B[39;00m \u001B[38;5;167;01mTypeError\u001B[39;00m(\n\u001B[0;32m    701\u001B[0m             \u001B[38;5;124m\"\u001B[39m\u001B[38;5;124m`Trainer.test()` requires a `LightningModule` when it hasn\u001B[39m\u001B[38;5;124m'\u001B[39m\u001B[38;5;124mt been passed in a previous run\u001B[39m\u001B[38;5;124m\"\u001B[39m\n\u001B[0;32m    702\u001B[0m         )\n\u001B[0;32m    703\u001B[0m \u001B[38;5;28;01melse\u001B[39;00m:\n\u001B[0;32m    704\u001B[0m     model \u001B[38;5;241m=\u001B[39m _maybe_unwrap_optimized(model)\n",
      "\u001B[1;31mTypeError\u001B[0m: `Trainer.test()` requires a `LightningModule` when it hasn't been passed in a previous run"
     ]
    }
   ],
   "source": [
    "trainer.test()"
   ],
   "metadata": {
    "collapsed": false,
    "pycharm": {
     "name": "#%%\n"
    }
   }
  },
  {
   "cell_type": "code",
   "execution_count": 9,
   "outputs": [
    {
     "data": {
      "text/plain": "       val_acc  val_roc  val_f1\nepoch                          \n0          NaN      NaN     NaN\n0          NaN      NaN     NaN\n0          NaN      NaN     NaN\n0          NaN      NaN     NaN\n0          NaN      NaN     NaN",
      "text/html": "<div>\n<style scoped>\n    .dataframe tbody tr th:only-of-type {\n        vertical-align: middle;\n    }\n\n    .dataframe tbody tr th {\n        vertical-align: top;\n    }\n\n    .dataframe thead th {\n        text-align: right;\n    }\n</style>\n<table border=\"1\" class=\"dataframe\">\n  <thead>\n    <tr style=\"text-align: right;\">\n      <th></th>\n      <th>val_acc</th>\n      <th>val_roc</th>\n      <th>val_f1</th>\n    </tr>\n    <tr>\n      <th>epoch</th>\n      <th></th>\n      <th></th>\n      <th></th>\n    </tr>\n  </thead>\n  <tbody>\n    <tr>\n      <th>0</th>\n      <td>NaN</td>\n      <td>NaN</td>\n      <td>NaN</td>\n    </tr>\n    <tr>\n      <th>0</th>\n      <td>NaN</td>\n      <td>NaN</td>\n      <td>NaN</td>\n    </tr>\n    <tr>\n      <th>0</th>\n      <td>NaN</td>\n      <td>NaN</td>\n      <td>NaN</td>\n    </tr>\n    <tr>\n      <th>0</th>\n      <td>NaN</td>\n      <td>NaN</td>\n      <td>NaN</td>\n    </tr>\n    <tr>\n      <th>0</th>\n      <td>NaN</td>\n      <td>NaN</td>\n      <td>NaN</td>\n    </tr>\n  </tbody>\n</table>\n</div>"
     },
     "metadata": {},
     "output_type": "display_data"
    },
    {
     "data": {
      "text/plain": "<seaborn.axisgrid.FacetGrid at 0x1706f4487f0>"
     },
     "execution_count": 9,
     "metadata": {},
     "output_type": "execute_result"
    },
    {
     "data": {
      "text/plain": "<Figure size 597.125x500 with 1 Axes>",
      "image/png": "[encoded data removed]"
     },
     "metadata": {},
     "output_type": "display_data"
    }
   ],
   "source": [
    "metrics = pd.read_csv(f\"{trainer.logger.log_dir}/metrics_cl.csv\")\n",
    "metrics = metrics.drop([\"test_acc\",\"test_roc\",\"test_f1\",\"test_loss\"],axis=1)\n",
    "del metrics[\"step\"]\n",
    "metrics.set_index(\"epoch\", inplace=True)\n",
    "display(metrics.dropna(axis=1, how=\"all\").head())\n",
    "sn.relplot(data=metrics, kind=\"line\")"
   ],
   "metadata": {
    "collapsed": false,
    "pycharm": {
     "name": "#%%\n"
    }
   }
  },
  {
   "cell_type": "code",
   "execution_count": null,
   "outputs": [],
   "source": [],
   "metadata": {
    "collapsed": false,
    "pycharm": {
     "name": "#%%\n"
    }
   }
  }
 ],
 "metadata": {
  "kernelspec": {
   "display_name": "Python 3",
   "language": "python",
   "name": "python3"
  },
  "language_info": {
   "codemirror_mode": {
    "name": "ipython",
    "version": 2
   },
   "file_extension": ".py",
   "mimetype": "text/x-python",
   "name": "python",
   "nbconvert_exporter": "python",
   "pygments_lexer": "ipython2",
   "version": "2.7.6"
  }
 },
 "nbformat": 4,
 "nbformat_minor": 0
}